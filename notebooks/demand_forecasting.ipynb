{
    "cells": [
     {
      "cell_type": "markdown",
      "metadata": {},
      "source": [
       "# Pharmaceutical Demand Forecasting\n",
       "End-to-end workflow for forecasting pharmaceutical demand using Prophet.\n",
       "## Steps:\n",
       "1. Preprocess data (simulating AWS Glue)\n",
       "2. Train Prophet model\n",
       "3. Evaluate model performance\n",
       "4. Simulate AWS SageMaker deployment\n",
       "5. Generate visualization (simulating Tableau)"
      ]
     },
     {
      "cell_type": "code",
      "execution_count": null,
      "metadata": {},
      "outputs": [],
      "source": [
       "import sys\n",
       "sys.path.append('../src')\n",
       "import pandas as pd\n",
       "from sklearn.metrics import mean_absolute_error, mean_squared_error\n",
       "import numpy as np\n",
       "from data_preprocessing import preprocess_data\n",
       "from model_training import train_and_forecast\n",
       "from aws_integration import simulate_aws_glue_job, simulate_sagemaker_deployment\n",
       "from visualization import create_tableau_visualization\n",
       "\n",
       "# Step 1: Preprocess data\n",
       "preprocess_data('../data/sample_demand_data.csv', '../data/cleaned_demand_data.csv')"
      ]
     },
     {
      "cell_type": "code",
      "execution_count": null,
      "metadata": {},
      "outputs": [],
      "source": [
       "# Step 2: Train and forecast\n",
       "model, forecast = train_and_forecast('../data/cleaned_demand_data.csv', '../data/forecast_output.csv')"
      ]
     },
     {
      "cell_type": "code",
      "execution_count": null,
      "metadata": {},
      "outputs": [],
      "source": [
       "# Step 3: Evaluate model performance\n",
       "def evaluate_model(data_path, forecast):\n",
       "    # Load historical data\n",
       "    df = pd.read_csv(data_path)\n",
       "    \n",
       "    # Merge forecast with actual data on 'ds' (date column)\n",
       "    actual = df[['ds', 'y']].copy()\n",
       "    forecast = forecast[['ds', 'yhat']].copy()\n",
       "    merged = pd.merge(actual, forecast, on='ds', how='inner')\n",
       "    \n",
       "    # Calculate metrics\n",
       "    mae = mean_absolute_error(merged['y'], merged['yhat'])\n",
       "    mse = mean_squared_error(merged['y'], merged['yhat'])\n",
       "    rmse = np.sqrt(mse)\n",
       "    \n",
       "    print(f'Mean Absolute Error (MAE): {mae:.2f}')\n",
       "    print(f'Mean Squared Error (MSE): {mse:.2f}')\n",
       "    print(f'Root Mean Squared Error (RMSE): {rmse:.2f}')\n",
       "    \n",
       "    return mae, mse, rmse\n",
       "\n",
       "# Evaluate the model\n",
       "mae, mse, rmse = evaluate_model('../data/cleaned_demand_data.csv', forecast)"
      ]
     },
     {
      "cell_type": "code",
      "execution_count": null,
      "metadata": {},
      "outputs": [],
      "source": [
       "# Step 4: Simulate AWS integration\n",
       "simulate_aws_glue_job('../data/sample_demand_data.csv', '../data/cleaned_demand_data.csv')\n",
       "simulate_sagemaker_deployment(model)"
      ]
     },
     {
      "cell_type": "code",
      "execution_count": null,
      "metadata": {},
      "outputs": [],
      "source": [
       "# Step 5: Generate visualization\n",
       "create_tableau_visualization('../data/forecast_output.csv')"
      ]
     }
    ],
    "metadata": {
     "kernelspec": {
      "display_name": "Python 3",
      "language": "python",
      "name": "python3"
     },
     "language_info": {
      "codemirror_mode": {
       "name": "ipython",
       "version": 3
      },
      "file_extension": ".py",
      "mimetype": "text/x-python",
      "name": "python",
      "nbconvert_exporter": "python",
      "pygments_lexer": "ipython3",
      "version": "3.8.0"
     }
    },
    "nbformat": 4,
    "nbformat_minor": 4
   }